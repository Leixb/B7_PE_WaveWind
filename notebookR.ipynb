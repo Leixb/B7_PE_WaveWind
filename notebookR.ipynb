{
 "cells": [
  {
   "cell_type": "code",
   "execution_count": 1,
   "metadata": {},
   "outputs": [
    {
     "name": "stderr",
     "output_type": "stream",
     "text": [
      "\n",
      "Attaching package: ‘dplyr’\n",
      "\n",
      "The following objects are masked from ‘package:stats’:\n",
      "\n",
      "    filter, lag\n",
      "\n",
      "The following objects are masked from ‘package:base’:\n",
      "\n",
      "    intersect, setdiff, setequal, union\n",
      "\n"
     ]
    }
   ],
   "source": [
    "library(ggplot2)\n",
    "library(xtable)\n",
    "library(dplyr)"
   ]
  },
  {
   "cell_type": "code",
   "execution_count": 2,
   "metadata": {},
   "outputs": [],
   "source": [
    "nazare = na.omit(read.csv(\"data/Nazare.csv\"))\n",
    "jaws = na.omit(read.csv(\"data/Jaws.csv\"))"
   ]
  },
  {
   "cell_type": "code",
   "execution_count": 3,
   "metadata": {},
   "outputs": [
    {
     "data": {
      "text/plain": [
       "      Wave             Wind       \n",
       " Min.   : 0.000   Min.   : 0.000  \n",
       " 1st Qu.: 1.600   1st Qu.: 5.000  \n",
       " Median : 2.100   Median : 8.000  \n",
       " Mean   : 2.414   Mean   : 8.666  \n",
       " 3rd Qu.: 3.000   3rd Qu.:11.000  \n",
       " Max.   :11.400   Max.   :38.000  "
      ]
     },
     "metadata": {},
     "output_type": "display_data"
    }
   ],
   "source": [
    "summary(nazare[,2:3])"
   ]
  },
  {
   "cell_type": "code",
   "execution_count": 4,
   "metadata": {},
   "outputs": [],
   "source": [
    "print(xtable(summary(nazare[,2:3])), file = \"tables/summary_nazare.tex\", compress = FALSE, floating=FALSE, latex.environments=NULL, booktabs=TRUE)\n",
    "print(xtable(summary(jaws[,2:3])), file = \"tables/summary_jaws.tex\", compress = FALSE, floating=FALSE, latex.environments=NULL, booktabs=TRUE)"
   ]
  },
  {
   "cell_type": "code",
   "execution_count": 5,
   "metadata": {},
   "outputs": [
    {
     "data": {
      "text/plain": [
       "                  Time          Wave            Wind       \n",
       " 2006-12-24 14:00:00:  1   Min.   :0.400   Min.   : 1.000  \n",
       " 2006-12-29 11:00:00:  1   1st Qu.:1.500   1st Qu.: 5.000  \n",
       " 2006-12-29 14:00:00:  1   Median :2.100   Median : 8.000  \n",
       " 2006-12-30 08:00:00:  1   Mean   :2.325   Mean   : 8.732  \n",
       " 2007-01-11 17:00:00:  1   3rd Qu.:2.800   3rd Qu.:11.000  \n",
       " 2007-01-23 17:00:00:  1   Max.   :8.600   Max.   :27.000  \n",
       " (Other)            :494                                   "
      ]
     },
     "metadata": {},
     "output_type": "display_data"
    },
    {
     "data": {
      "text/plain": [
       "                  Time          Wave            Wind       \n",
       " 2006-12-30 08:00:00:  1   Min.   :0.500   Min.   : 0.000  \n",
       " 2007-01-04 08:00:00:  1   1st Qu.:1.500   1st Qu.: 6.000  \n",
       " 2007-01-05 17:00:00:  1   Median :2.100   Median : 8.000  \n",
       " 2007-01-13 14:00:00:  1   Mean   :2.331   Mean   : 8.864  \n",
       " 2007-01-30 08:00:00:  1   3rd Qu.:2.800   3rd Qu.:11.000  \n",
       " 2007-02-04 11:00:00:  1   Max.   :7.600   Max.   :26.000  \n",
       " (Other)            :494                                   "
      ]
     },
     "metadata": {},
     "output_type": "display_data"
    }
   ],
   "source": []
  },
  {
   "cell_type": "markdown",
   "metadata": {},
   "source": [
    "# Plots"
   ]
  },
  {
   "cell_type": "code",
   "execution_count": 6,
   "metadata": {},
   "outputs": [],
   "source": [
    "nazare.plt.gg <- ggplot(nazare)\n",
    "\n",
    "# WIND\n",
    "nazare.plt.qq_wind <- nazare.plt.gg + \n",
    "    stat_qq(aes(sample=Wind)) + stat_qq_line(aes(sample=Wind)) +\n",
    "    labs(title=\"Normal QQ plot, Nazaré Wind\")\n",
    "\n",
    "nazare.plt.hist_wind <- nazare.plt.gg +\n",
    "    geom_histogram(aes(x=Wind)) +\n",
    "    labs(title=\"Histogram Nazaré Wind\")\n",
    "\n",
    "#WAVE\n",
    "nazare.plt.qq_wave <- nazare.plt.gg + \n",
    "    stat_qq(aes(sample=Wave)) + stat_qq_line(aes(sample=Wave)) +\n",
    "    labs(title=\"Normal QQ plot, Nazaré Wave\")\n",
    "\n",
    "nazare.plt.hist_wave <- nazare.plt.gg +\n",
    "    geom_histogram(aes(x=Wave)) +\n",
    "    labs(title=\"Histogram Nazaré Wave\")\n",
    "\n",
    "# Scatter\n",
    "aes_ = aes(x=Wind, y=Wave)\n",
    "nazare.plt.smooth <- nazare.plt.gg +\n",
    "    geom_jitter(aes_) + stat_density_2d(aes_) + geom_smooth(aes_) +\n",
    "    labs(title=\"Nazare\")\n",
    "\n",
    "nazare.plt.bin2d <- nazare.plt.gg +\n",
    "    geom_bin2d(aes_, binwidth=c(1,0.1)) + \n",
    "    scale_fill_viridis_c(\"\", option=\"plasma\") +\n",
    "    labs(title=\"Nazare\", x=\"Velocidad del viento (nudos)\", y = \"Altura Olas (m)\")\n"
   ]
  },
  {
   "cell_type": "code",
   "execution_count": 7,
   "metadata": {
    "scrolled": true
   },
   "outputs": [
    {
     "name": "stderr",
     "output_type": "stream",
     "text": [
      "`stat_bin()` using `bins = 30`. Pick better value with `binwidth`.\n",
      "`stat_bin()` using `bins = 30`. Pick better value with `binwidth`.\n",
      "`geom_smooth()` using method = 'gam' and formula 'y ~ s(x, bs = \"cs\")'\n"
     ]
    }
   ],
   "source": [
    "#Save plots\n",
    "ggsave(\"nazare_qq_wind.pdf\", path=\"figures\", plot=nazare.plt.qq_wind, width=15, height=15, units='cm')\n",
    "ggsave(\"nazare_hist_wind.pdf\", path=\"figures\", plot=nazare.plt.hist_wind, width=15, height=15, units='cm')\n",
    "\n",
    "ggsave(\"nazare_qq_wave.pdf\", path=\"figures\", plot=nazare.plt.qq_wave, width=15, height=15, units='cm')\n",
    "ggsave(\"nazare_hist_wave.pdf\", path=\"figures\", plot=nazare.plt.hist_wave, width=15, height=15, units='cm')\n",
    "\n",
    "ggsave(\"nazare_smooth.pdf\", path=\"figures\", plot=nazare.plt.smooth, width=15, height=15, units='cm')\n",
    "ggsave(\"nazare_bin2d.pdf\", path=\"figures\", plot=nazare.plt.bin2d, width=15, height=15, units='cm')"
   ]
  },
  {
   "cell_type": "code",
   "execution_count": 8,
   "metadata": {},
   "outputs": [],
   "source": [
    "jaws.plt.gg <- ggplot(jaws)\n",
    "\n",
    "# WIND\n",
    "jaws.plt.qq_wind <- jaws.plt.gg + \n",
    "    stat_qq(aes(sample=Wind)) + stat_qq_line(aes(sample=Wind)) +\n",
    "    labs(title=\"Normal QQ plot, Jaws Wind\")\n",
    "\n",
    "jaws.plt.hist_wind <- jaws.plt.gg +\n",
    "    geom_histogram(aes(x=Wind)) +\n",
    "    labs(title=\"Histogram Jaws Wind\")\n",
    "\n",
    "#WAVE\n",
    "jaws.plt.qq_wave <- jaws.plt.gg + \n",
    "    stat_qq(aes(sample=Wave)) + stat_qq_line(aes(sample=Wave)) +\n",
    "    labs(title=\"Normal QQ plot, Jaws Wave\")\n",
    "\n",
    "jaws.plt.hist_wave <- jaws.plt.gg +\n",
    "    geom_histogram(aes(x=Wave)) +\n",
    "    labs(title=\"Histogram Jaws Wave\")\n",
    "\n",
    "# Scatter\n",
    "aes_ = aes(x=Wind, y=Wave)\n",
    "jaws.plt.smooth <- jaws.plt.gg +\n",
    "    geom_jitter(aes_) + stat_density_2d(aes_) + geom_smooth(aes_) +\n",
    "    labs(title=\"Jaws\")\n",
    "\n",
    "jaws.plt.bin2d <- jaws.plt.gg +\n",
    "    geom_bin2d(aes_, binwidth=c(1,0.1)) + \n",
    "    scale_fill_viridis_c(\"\", option=\"plasma\") +\n",
    "    labs(title=\"Jaws\", x=\"Velocidad del viento (nudos)\", y = \"Altura Olas (m)\")"
   ]
  },
  {
   "cell_type": "code",
   "execution_count": 9,
   "metadata": {
    "scrolled": true
   },
   "outputs": [
    {
     "name": "stderr",
     "output_type": "stream",
     "text": [
      "`stat_bin()` using `bins = 30`. Pick better value with `binwidth`.\n",
      "`stat_bin()` using `bins = 30`. Pick better value with `binwidth`.\n",
      "`geom_smooth()` using method = 'gam' and formula 'y ~ s(x, bs = \"cs\")'\n"
     ]
    }
   ],
   "source": [
    "#Save plots\n",
    "ggsave(\"jaws_qq_wind.pdf\", path=\"figures\", plot=jaws.plt.qq_wind, width=15, height=15, units='cm')\n",
    "ggsave(\"jaws_hist_wind.pdf\", path=\"figures\", plot=jaws.plt.hist_wind, width=15, height=15, units='cm')\n",
    "\n",
    "ggsave(\"jaws_qq_wave.pdf\", path=\"figures\", plot=jaws.plt.qq_wave, width=15, height=15, units='cm')\n",
    "ggsave(\"jaws_hist_wave.pdf\", path=\"figures\", plot=jaws.plt.hist_wave, width=15, height=15, units='cm')\n",
    "\n",
    "\n",
    "ggsave(\"jaws_smooth.pdf\", path=\"figures\", plot=jaws.plt.smooth, width=15, height=15, units='cm')\n",
    "ggsave(\"jaws_bin2d.pdf\", path=\"figures\", plot=jaws.plt.bin2d, width=15, height=15, units='cm')"
   ]
  },
  {
   "cell_type": "code",
   "execution_count": 10,
   "metadata": {},
   "outputs": [],
   "source": [
    "boxplot_wave <- nazare.plt.gg +\n",
    "    geom_boxplot(aes(y=Wave, x=\"Nazare\", fill=\"Nazare\")) +\n",
    "    geom_boxplot(data=jaws, aes(y=Wave, x=\"Jaws\", fill=\"Jaws\")) + ylim(0, 6.5) +\n",
    "    scale_colour_manual(name=\"Location\",\n",
    "    values=c(Nazare=\"red\", Jaws=\"blue\"))\n",
    "\n",
    "boxplot_wind <- nazare.plt.gg +\n",
    "    geom_boxplot(data=nazare, aes(y=Wind, x=\"Nazare\", fill=\"Nazare\")) +\n",
    "    geom_boxplot(data=jaws, aes(y=Wind, x=\"Jaws\", fill=\"Jaws\")) + \n",
    "    scale_colour_manual(name=\"Location\",\n",
    "    values=c(Nazare=\"red\", Jaws=\"blue\"))"
   ]
  },
  {
   "cell_type": "code",
   "execution_count": 11,
   "metadata": {},
   "outputs": [
    {
     "name": "stderr",
     "output_type": "stream",
     "text": [
      "Warning message:\n",
      "“Removed 288 rows containing non-finite values (stat_boxplot).”"
     ]
    }
   ],
   "source": [
    "ggsave(\"boxplot_wind.pdf\", path=\"figures\", plot=boxplot_wind, width=15, height=15, units='cm')\n",
    "ggsave(\"boxplot_wave.pdf\", path=\"figures\", plot=boxplot_wave, width=15, height=15, units='cm')"
   ]
  },
  {
   "cell_type": "code",
   "execution_count": 12,
   "metadata": {
    "scrolled": true
   },
   "outputs": [
    {
     "data": {
      "image/png": "[encoded data removed]",
      "text/plain": [
       "Plot with title “”"
      ]
     },
     "metadata": {},
     "output_type": "display_data"
    }
   ],
   "source": [
    "mylinreg = lm(Wave ~ Wind, data = nazare)\n",
    "par(mfrow = c(2, 2))\n",
    "plot(mylinreg)"
   ]
  },
  {
   "cell_type": "markdown",
   "metadata": {},
   "source": [
    "# SubSample"
   ]
  },
  {
   "cell_type": "code",
   "execution_count": 13,
   "metadata": {},
   "outputs": [
    {
     "data": {
      "text/plain": [
       "                  Time          Wave            Wind       \n",
       " 2006-12-24 14:00:00:  1   Min.   :0.400   Min.   : 1.000  \n",
       " 2006-12-29 11:00:00:  1   1st Qu.:1.500   1st Qu.: 5.000  \n",
       " 2006-12-29 14:00:00:  1   Median :2.100   Median : 8.000  \n",
       " 2006-12-30 08:00:00:  1   Mean   :2.325   Mean   : 8.732  \n",
       " 2007-01-11 17:00:00:  1   3rd Qu.:2.800   3rd Qu.:11.000  \n",
       " 2007-01-23 17:00:00:  1   Max.   :8.600   Max.   :27.000  \n",
       " (Other)            :494                                   "
      ]
     },
     "metadata": {},
     "output_type": "display_data"
    },
    {
     "data": {
      "text/plain": [
       "                  Time          Wave            Wind       \n",
       " 2006-12-30 08:00:00:  1   Min.   :0.500   Min.   : 0.000  \n",
       " 2007-01-04 08:00:00:  1   1st Qu.:1.500   1st Qu.: 6.000  \n",
       " 2007-01-05 17:00:00:  1   Median :2.100   Median : 8.000  \n",
       " 2007-01-13 14:00:00:  1   Mean   :2.331   Mean   : 8.864  \n",
       " 2007-01-30 08:00:00:  1   3rd Qu.:2.800   3rd Qu.:11.000  \n",
       " 2007-02-04 11:00:00:  1   Max.   :7.600   Max.   :26.000  \n",
       " (Other)            :494                                   "
      ]
     },
     "metadata": {},
     "output_type": "display_data"
    }
   ],
   "source": [
    "time_between <- function (time, a, b) {\n",
    "    h <- as.numeric(format(as.POSIXct(time), \"%H\"))\n",
    "    (h >= a & h <= b)\n",
    "}\n",
    "\n",
    "set.seed(42)\n",
    "nazare_500 <- sample_n(subset(nazare, time_between(Time, 8, 17)), 500)\n",
    "summary(nazare_500)\n",
    "\n",
    "set.seed(43)\n",
    "jaws_500 <- sample_n(subset(nazare, time_between(Time, 8, 17)), 500)\n",
    "summary(jaws_500)"
   ]
  }
 ],
 "metadata": {
  "kernelspec": {
   "display_name": "R",
   "language": "R",
   "name": "ir"
  },
  "language_info": {
   "codemirror_mode": "r",
   "file_extension": ".r",
   "mimetype": "text/x-r-source",
   "name": "R",
   "pygments_lexer": "r",
   "version": "3.5.1"
  }
 },
 "nbformat": 4,
 "nbformat_minor": 2
}
